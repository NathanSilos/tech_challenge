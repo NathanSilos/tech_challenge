{
 "cells": [
  {
   "cell_type": "code",
   "execution_count": 70,
   "metadata": {},
   "outputs": [],
   "source": [
    "# Importando o pandas para explorar os dados\n",
    "import pandas as pd\n",
    "import warnings\n",
    "warnings.filterwarnings('ignore')"
   ]
  },
  {
   "cell_type": "markdown",
   "metadata": {},
   "source": [
    "1 - Criar uma base que contenha as seguintes informacoes:\n",
    "- Pais Origem (Brasil)\n",
    "- Pais Destino \n",
    "- Quantidadade em litros de vinho exportado\n",
    "- Valor em US$\n",
    "\n",
    "*** Inclui uma coluna a mais de categoria do vinho exportado"
   ]
  },
  {
   "cell_type": "code",
   "execution_count": 72,
   "metadata": {},
   "outputs": [
    {
     "data": {
      "text/html": [
       "<div>\n",
       "<style scoped>\n",
       "    .dataframe tbody tr th:only-of-type {\n",
       "        vertical-align: middle;\n",
       "    }\n",
       "\n",
       "    .dataframe tbody tr th {\n",
       "        vertical-align: top;\n",
       "    }\n",
       "\n",
       "    .dataframe thead th {\n",
       "        text-align: right;\n",
       "    }\n",
       "</style>\n",
       "<table border=\"1\" class=\"dataframe\">\n",
       "  <thead>\n",
       "    <tr style=\"text-align: right;\">\n",
       "      <th></th>\n",
       "      <th>paises</th>\n",
       "      <th>quantidade_kg</th>\n",
       "      <th>valor</th>\n",
       "      <th>categorias</th>\n",
       "      <th>ano</th>\n",
       "    </tr>\n",
       "  </thead>\n",
       "  <tbody>\n",
       "    <tr>\n",
       "      <th>0</th>\n",
       "      <td>Afeganistão</td>\n",
       "      <td>-</td>\n",
       "      <td>-</td>\n",
       "      <td>Vinhos de mesa</td>\n",
       "      <td>2008</td>\n",
       "    </tr>\n",
       "    <tr>\n",
       "      <th>1</th>\n",
       "      <td>África do Sul</td>\n",
       "      <td>-</td>\n",
       "      <td>-</td>\n",
       "      <td>Vinhos de mesa</td>\n",
       "      <td>2008</td>\n",
       "    </tr>\n",
       "    <tr>\n",
       "      <th>2</th>\n",
       "      <td>Alemanha, República Democrática</td>\n",
       "      <td>7.630</td>\n",
       "      <td>45.367</td>\n",
       "      <td>Vinhos de mesa</td>\n",
       "      <td>2008</td>\n",
       "    </tr>\n",
       "    <tr>\n",
       "      <th>3</th>\n",
       "      <td>Angola</td>\n",
       "      <td>4.068</td>\n",
       "      <td>4.761</td>\n",
       "      <td>Vinhos de mesa</td>\n",
       "      <td>2008</td>\n",
       "    </tr>\n",
       "    <tr>\n",
       "      <th>4</th>\n",
       "      <td>Anguilla</td>\n",
       "      <td>-</td>\n",
       "      <td>-</td>\n",
       "      <td>Vinhos de mesa</td>\n",
       "      <td>2008</td>\n",
       "    </tr>\n",
       "  </tbody>\n",
       "</table>\n",
       "</div>"
      ],
      "text/plain": [
       "                            paises quantidade_kg   valor      categorias   ano\n",
       "0                      Afeganistão             -       -  Vinhos de mesa  2008\n",
       "1                    África do Sul             -       -  Vinhos de mesa  2008\n",
       "2  Alemanha, República Democrática         7.630  45.367  Vinhos de mesa  2008\n",
       "3                           Angola         4.068   4.761  Vinhos de mesa  2008\n",
       "4                         Anguilla             -       -  Vinhos de mesa  2008"
      ]
     },
     "execution_count": 72,
     "metadata": {},
     "output_type": "execute_result"
    }
   ],
   "source": [
    "# Lendo dados de exportacao de vinhos\n",
    "df = pd.read_csv(\n",
    "    r'bases/df_exportacao_15_anos.csv',\n",
    "    sep=';'\n",
    ")\n",
    "df.head()"
   ]
  },
  {
   "cell_type": "code",
   "execution_count": 73,
   "metadata": {},
   "outputs": [
    {
     "name": "stdout",
     "output_type": "stream",
     "text": [
      "\n",
      "Total base: 7696\n",
      "Casos onde não houve exportacao: 3408\n",
      "Retirando totais: 7632\n",
      "\n"
     ]
    }
   ],
   "source": [
    "# Comparando a base caso eu tire os paises que nao houve exportacao\n",
    "print(f'''\n",
    "Total base: {df.shape[0]}\n",
    "Casos onde não houve exportacao: {df[(df.quantidade_kg == '-') & (df.valor == '-')].shape[0]}\n",
    "Retirando totais: {df[df.paises != 'Total'].shape[0]}\n",
    "''')"
   ]
  },
  {
   "cell_type": "code",
   "execution_count": 74,
   "metadata": {},
   "outputs": [],
   "source": [
    "# Separando apenas os casos onde teve exportacao\n",
    "df_exportacao = df[~(df.quantidade_kg == '-') & ~(df.valor == '-')]"
   ]
  },
  {
   "cell_type": "code",
   "execution_count": 75,
   "metadata": {},
   "outputs": [
    {
     "data": {
      "text/plain": [
       "paises           object\n",
       "quantidade_kg    object\n",
       "valor            object\n",
       "categorias       object\n",
       "ano               int64\n",
       "dtype: object"
      ]
     },
     "execution_count": 75,
     "metadata": {},
     "output_type": "execute_result"
    }
   ],
   "source": [
    "# Printando os tipos de cada coluna\n",
    "df_exportacao.dtypes"
   ]
  },
  {
   "cell_type": "code",
   "execution_count": 76,
   "metadata": {},
   "outputs": [
    {
     "data": {
      "text/html": [
       "<div>\n",
       "<style scoped>\n",
       "    .dataframe tbody tr th:only-of-type {\n",
       "        vertical-align: middle;\n",
       "    }\n",
       "\n",
       "    .dataframe tbody tr th {\n",
       "        vertical-align: top;\n",
       "    }\n",
       "\n",
       "    .dataframe thead th {\n",
       "        text-align: right;\n",
       "    }\n",
       "</style>\n",
       "<table border=\"1\" class=\"dataframe\">\n",
       "  <thead>\n",
       "    <tr style=\"text-align: right;\">\n",
       "      <th></th>\n",
       "      <th>paises</th>\n",
       "      <th>quantidade_kg</th>\n",
       "      <th>valor</th>\n",
       "      <th>categorias</th>\n",
       "      <th>ano</th>\n",
       "    </tr>\n",
       "  </thead>\n",
       "  <tbody>\n",
       "    <tr>\n",
       "      <th>2</th>\n",
       "      <td>Alemanha, República Democrática</td>\n",
       "      <td>7.630</td>\n",
       "      <td>45.367</td>\n",
       "      <td>Vinhos de mesa</td>\n",
       "      <td>2008</td>\n",
       "    </tr>\n",
       "    <tr>\n",
       "      <th>3</th>\n",
       "      <td>Angola</td>\n",
       "      <td>4.068</td>\n",
       "      <td>4.761</td>\n",
       "      <td>Vinhos de mesa</td>\n",
       "      <td>2008</td>\n",
       "    </tr>\n",
       "    <tr>\n",
       "      <th>5</th>\n",
       "      <td>Antígua e Barbuda</td>\n",
       "      <td>419</td>\n",
       "      <td>1.866</td>\n",
       "      <td>Vinhos de mesa</td>\n",
       "      <td>2008</td>\n",
       "    </tr>\n",
       "    <tr>\n",
       "      <th>7</th>\n",
       "      <td>Argentina</td>\n",
       "      <td>480</td>\n",
       "      <td>3.232</td>\n",
       "      <td>Vinhos de mesa</td>\n",
       "      <td>2008</td>\n",
       "    </tr>\n",
       "    <tr>\n",
       "      <th>9</th>\n",
       "      <td>Austrália</td>\n",
       "      <td>1.424</td>\n",
       "      <td>12.299</td>\n",
       "      <td>Vinhos de mesa</td>\n",
       "      <td>2008</td>\n",
       "    </tr>\n",
       "  </tbody>\n",
       "</table>\n",
       "</div>"
      ],
      "text/plain": [
       "                            paises quantidade_kg   valor      categorias   ano\n",
       "2  Alemanha, República Democrática         7.630  45.367  Vinhos de mesa  2008\n",
       "3                           Angola         4.068   4.761  Vinhos de mesa  2008\n",
       "5                Antígua e Barbuda           419   1.866  Vinhos de mesa  2008\n",
       "7                        Argentina           480   3.232  Vinhos de mesa  2008\n",
       "9                        Austrália         1.424  12.299  Vinhos de mesa  2008"
      ]
     },
     "execution_count": 76,
     "metadata": {},
     "output_type": "execute_result"
    }
   ],
   "source": [
    "df_exportacao.head()"
   ]
  },
  {
   "cell_type": "code",
   "execution_count": 77,
   "metadata": {},
   "outputs": [],
   "source": [
    "# Removendo os pontos para que possamos converter para float\n",
    "df_exportacao.quantidade_kg = df_exportacao.quantidade_kg.str.replace('.','').astype(float)\n",
    "df_exportacao.valor = df_exportacao.valor.str.replace('.','').astype(float)"
   ]
  },
  {
   "cell_type": "code",
   "execution_count": 78,
   "metadata": {},
   "outputs": [
    {
     "name": "stdout",
     "output_type": "stream",
     "text": [
      "Soma Valores: 65435970.0 \n",
      "Total base: 65435970.0\n"
     ]
    }
   ],
   "source": [
    "# Validando se os totais batem com a soma\n",
    "print(\n",
    "'Soma Valores:', df_exportacao[\n",
    "    (df_exportacao.ano == 2008) &\n",
    "    (df.paises != 'Total')\n",
    "].quantidade_kg.sum(),\n",
    "\n",
    "'\\nTotal base:' ,\n",
    "df_exportacao[\n",
    "    (df_exportacao.ano == 2008) &\n",
    "    (df.paises == 'Total')\n",
    "].quantidade_kg.sum()\n",
    ")"
   ]
  },
  {
   "cell_type": "code",
   "execution_count": 79,
   "metadata": {},
   "outputs": [
    {
     "name": "stdout",
     "output_type": "stream",
     "text": [
      "Soma Valores: 137129017.0 \n",
      "Total base: 137129017.0\n"
     ]
    }
   ],
   "source": [
    "# Validando se os totais batem com a soma\n",
    "print(\n",
    "'Soma Valores:', df_exportacao[\n",
    "    (df_exportacao.ano == 2008) &\n",
    "    (df.paises != 'Total')\n",
    "].valor.sum(),\n",
    "\n",
    "'\\nTotal base:' ,\n",
    "df_exportacao[\n",
    "    (df_exportacao.ano == 2008) &\n",
    "    (df.paises == 'Total')\n",
    "].valor.sum()\n",
    ")"
   ]
  },
  {
   "cell_type": "code",
   "execution_count": 80,
   "metadata": {},
   "outputs": [],
   "source": [
    "# Como os valores bateram posso tirar o total da base\n",
    "df_exportacao = df_exportacao[(df.paises != 'Total')]"
   ]
  },
  {
   "cell_type": "code",
   "execution_count": 81,
   "metadata": {},
   "outputs": [
    {
     "data": {
      "text/plain": [
       "Index(['paises', 'quantidade_kg', 'valor', 'categorias', 'ano'], dtype='object')"
      ]
     },
     "execution_count": 81,
     "metadata": {},
     "output_type": "execute_result"
    }
   ],
   "source": [
    "df_exportacao.columns"
   ]
  },
  {
   "cell_type": "code",
   "execution_count": 87,
   "metadata": {},
   "outputs": [],
   "source": [
    "# Renomeando as colunas\n",
    "df_exportacao.rename(columns={\n",
    "        'paises':'pais_destino',\n",
    "        'quantidade_kg': 'quantidade_litro',\n",
    "        'ano' : 'ano_exportado'\n",
    "    },\n",
    "    inplace=True)\n",
    "\n",
    "# Criando coluna de pais origem\n",
    "df_exportacao['pais_origem'] = 'Brasil'\n",
    "\n",
    "# Ordenando as colunas\n",
    "df_exportacao = df_exportacao[[\n",
    "    'pais_origem',\n",
    "    'pais_destino',\n",
    "    'quantidade_litro',\n",
    "    'valor',\n",
    "    'categorias',\n",
    "    'ano_exportado'\n",
    "    ]\n",
    "]\n",
    "\n",
    "# Exportando resultado\n",
    "df_exportacao.to_csv(r'bases/tratadas/exportacao_15_anos_tratada.csv', index=False, sep=';')"
   ]
  },
  {
   "cell_type": "code",
   "execution_count": null,
   "metadata": {},
   "outputs": [],
   "source": []
  }
 ],
 "metadata": {
  "kernelspec": {
   "display_name": "Python 3",
   "language": "python",
   "name": "python3"
  },
  "language_info": {
   "codemirror_mode": {
    "name": "ipython",
    "version": 3
   },
   "file_extension": ".py",
   "mimetype": "text/x-python",
   "name": "python",
   "nbconvert_exporter": "python",
   "pygments_lexer": "ipython3",
   "version": "3.10.11"
  }
 },
 "nbformat": 4,
 "nbformat_minor": 2
}
