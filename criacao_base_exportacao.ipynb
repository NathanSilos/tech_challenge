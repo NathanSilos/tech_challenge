{
 "cells": [
  {
   "cell_type": "code",
   "execution_count": 13,
   "metadata": {},
   "outputs": [],
   "source": [
    "# Importando o pandas para explorar os dados\n",
    "import pandas as pd\n",
    "import warnings\n",
    "warnings.filterwarnings('ignore')"
   ]
  },
  {
   "cell_type": "markdown",
   "metadata": {},
   "source": [
    "1 - Criar uma base que contenha as seguintes informacoes:\n",
    "- Pais Origem (Brasil)\n",
    "- Pais Destino \n",
    "- Quantidadade em litros de vinho exportado\n",
    "- Valor em US$\n",
    "\n",
    "*** Inclui uma coluna a mais de categoria do vinho exportado"
   ]
  },
  {
   "cell_type": "code",
   "execution_count": 14,
   "metadata": {},
   "outputs": [
    {
     "data": {
      "text/html": [
       "<div>\n",
       "<style scoped>\n",
       "    .dataframe tbody tr th:only-of-type {\n",
       "        vertical-align: middle;\n",
       "    }\n",
       "\n",
       "    .dataframe tbody tr th {\n",
       "        vertical-align: top;\n",
       "    }\n",
       "\n",
       "    .dataframe thead th {\n",
       "        text-align: right;\n",
       "    }\n",
       "</style>\n",
       "<table border=\"1\" class=\"dataframe\">\n",
       "  <thead>\n",
       "    <tr style=\"text-align: right;\">\n",
       "      <th></th>\n",
       "      <th>paises</th>\n",
       "      <th>quantidade_kg</th>\n",
       "      <th>valor</th>\n",
       "      <th>categorias</th>\n",
       "      <th>ano</th>\n",
       "    </tr>\n",
       "  </thead>\n",
       "  <tbody>\n",
       "    <tr>\n",
       "      <th>0</th>\n",
       "      <td>Afeganistão</td>\n",
       "      <td>-</td>\n",
       "      <td>-</td>\n",
       "      <td>Vinhos de mesa</td>\n",
       "      <td>2008</td>\n",
       "    </tr>\n",
       "    <tr>\n",
       "      <th>1</th>\n",
       "      <td>África do Sul</td>\n",
       "      <td>-</td>\n",
       "      <td>-</td>\n",
       "      <td>Vinhos de mesa</td>\n",
       "      <td>2008</td>\n",
       "    </tr>\n",
       "    <tr>\n",
       "      <th>2</th>\n",
       "      <td>Alemanha, República Democrática</td>\n",
       "      <td>265.742</td>\n",
       "      <td>429.970</td>\n",
       "      <td>Vinhos de mesa</td>\n",
       "      <td>2008</td>\n",
       "    </tr>\n",
       "    <tr>\n",
       "      <th>3</th>\n",
       "      <td>Angola</td>\n",
       "      <td>25.721</td>\n",
       "      <td>71.083</td>\n",
       "      <td>Vinhos de mesa</td>\n",
       "      <td>2008</td>\n",
       "    </tr>\n",
       "    <tr>\n",
       "      <th>4</th>\n",
       "      <td>Anguilla</td>\n",
       "      <td>-</td>\n",
       "      <td>-</td>\n",
       "      <td>Vinhos de mesa</td>\n",
       "      <td>2008</td>\n",
       "    </tr>\n",
       "  </tbody>\n",
       "</table>\n",
       "</div>"
      ],
      "text/plain": [
       "                            paises quantidade_kg    valor      categorias  \\\n",
       "0                      Afeganistão             -        -  Vinhos de mesa   \n",
       "1                    África do Sul             -        -  Vinhos de mesa   \n",
       "2  Alemanha, República Democrática       265.742  429.970  Vinhos de mesa   \n",
       "3                           Angola        25.721   71.083  Vinhos de mesa   \n",
       "4                         Anguilla             -        -  Vinhos de mesa   \n",
       "\n",
       "    ano  \n",
       "0  2008  \n",
       "1  2008  \n",
       "2  2008  \n",
       "3  2008  \n",
       "4  2008  "
      ]
     },
     "execution_count": 14,
     "metadata": {},
     "output_type": "execute_result"
    }
   ],
   "source": [
    "# Lendo dados de exportacao de vinhos\n",
    "df = pd.read_csv(\n",
    "    r'bases/df_exportacao_15_anos.csv',\n",
    "    sep=';'\n",
    ")\n",
    "df.head()"
   ]
  },
  {
   "cell_type": "code",
   "execution_count": 15,
   "metadata": {},
   "outputs": [
    {
     "name": "stdout",
     "output_type": "stream",
     "text": [
      "\n",
      "Total base: 7215\n",
      "Casos onde não houve exportacao: 4919\n",
      "Retirando totais: 7155\n",
      "\n"
     ]
    }
   ],
   "source": [
    "# Comparando a base caso eu tire os paises que nao houve exportacao\n",
    "print(f'''\n",
    "Total base: {df.shape[0]}\n",
    "Casos onde não houve exportacao: {df[(df.quantidade_kg == '-') & (df.valor == '-')].shape[0]}\n",
    "Retirando totais: {df[df.paises != 'Total'].shape[0]}\n",
    "''')"
   ]
  },
  {
   "cell_type": "code",
   "execution_count": 16,
   "metadata": {},
   "outputs": [],
   "source": [
    "# Separando apenas os casos onde teve exportacao\n",
    "df_exportacao = df[~(df.quantidade_kg == '-') & ~(df.valor == '-')]"
   ]
  },
  {
   "cell_type": "code",
   "execution_count": 17,
   "metadata": {},
   "outputs": [
    {
     "data": {
      "text/plain": [
       "paises           object\n",
       "quantidade_kg    object\n",
       "valor            object\n",
       "categorias       object\n",
       "ano               int64\n",
       "dtype: object"
      ]
     },
     "execution_count": 17,
     "metadata": {},
     "output_type": "execute_result"
    }
   ],
   "source": [
    "# Printando os tipos de cada coluna\n",
    "df_exportacao.dtypes"
   ]
  },
  {
   "cell_type": "code",
   "execution_count": 18,
   "metadata": {},
   "outputs": [
    {
     "data": {
      "text/html": [
       "<div>\n",
       "<style scoped>\n",
       "    .dataframe tbody tr th:only-of-type {\n",
       "        vertical-align: middle;\n",
       "    }\n",
       "\n",
       "    .dataframe tbody tr th {\n",
       "        vertical-align: top;\n",
       "    }\n",
       "\n",
       "    .dataframe thead th {\n",
       "        text-align: right;\n",
       "    }\n",
       "</style>\n",
       "<table border=\"1\" class=\"dataframe\">\n",
       "  <thead>\n",
       "    <tr style=\"text-align: right;\">\n",
       "      <th></th>\n",
       "      <th>paises</th>\n",
       "      <th>quantidade_kg</th>\n",
       "      <th>valor</th>\n",
       "      <th>categorias</th>\n",
       "      <th>ano</th>\n",
       "    </tr>\n",
       "  </thead>\n",
       "  <tbody>\n",
       "    <tr>\n",
       "      <th>2</th>\n",
       "      <td>Alemanha, República Democrática</td>\n",
       "      <td>265.742</td>\n",
       "      <td>429.970</td>\n",
       "      <td>Vinhos de mesa</td>\n",
       "      <td>2008</td>\n",
       "    </tr>\n",
       "    <tr>\n",
       "      <th>3</th>\n",
       "      <td>Angola</td>\n",
       "      <td>25.721</td>\n",
       "      <td>71.083</td>\n",
       "      <td>Vinhos de mesa</td>\n",
       "      <td>2008</td>\n",
       "    </tr>\n",
       "    <tr>\n",
       "      <th>6</th>\n",
       "      <td>Antilhas Holandesas</td>\n",
       "      <td>17.938</td>\n",
       "      <td>22.908</td>\n",
       "      <td>Vinhos de mesa</td>\n",
       "      <td>2008</td>\n",
       "    </tr>\n",
       "    <tr>\n",
       "      <th>9</th>\n",
       "      <td>Austrália</td>\n",
       "      <td>218.726</td>\n",
       "      <td>99.280</td>\n",
       "      <td>Vinhos de mesa</td>\n",
       "      <td>2008</td>\n",
       "    </tr>\n",
       "    <tr>\n",
       "      <th>15</th>\n",
       "      <td>Bélgica</td>\n",
       "      <td>3.523</td>\n",
       "      <td>12.969</td>\n",
       "      <td>Vinhos de mesa</td>\n",
       "      <td>2008</td>\n",
       "    </tr>\n",
       "  </tbody>\n",
       "</table>\n",
       "</div>"
      ],
      "text/plain": [
       "                             paises quantidade_kg    valor      categorias  \\\n",
       "2   Alemanha, República Democrática       265.742  429.970  Vinhos de mesa   \n",
       "3                            Angola        25.721   71.083  Vinhos de mesa   \n",
       "6               Antilhas Holandesas        17.938   22.908  Vinhos de mesa   \n",
       "9                         Austrália       218.726   99.280  Vinhos de mesa   \n",
       "15                          Bélgica         3.523   12.969  Vinhos de mesa   \n",
       "\n",
       "     ano  \n",
       "2   2008  \n",
       "3   2008  \n",
       "6   2008  \n",
       "9   2008  \n",
       "15  2008  "
      ]
     },
     "execution_count": 18,
     "metadata": {},
     "output_type": "execute_result"
    }
   ],
   "source": [
    "df_exportacao.head()"
   ]
  },
  {
   "cell_type": "code",
   "execution_count": 19,
   "metadata": {},
   "outputs": [],
   "source": [
    "# Removendo os pontos para que possamos converter para float\n",
    "df_exportacao.quantidade_kg = df_exportacao.quantidade_kg.str.replace('.','').astype(float)\n",
    "df_exportacao.valor = df_exportacao.valor.str.replace('.','').astype(float)"
   ]
  },
  {
   "cell_type": "code",
   "execution_count": 20,
   "metadata": {},
   "outputs": [
    {
     "name": "stdout",
     "output_type": "stream",
     "text": [
      "Soma Valores: 99566957.0 \n",
      "Total base: 99566957.0\n"
     ]
    }
   ],
   "source": [
    "# Validando se os totais batem com a soma\n",
    "print(\n",
    "'Soma Valores:', df_exportacao[\n",
    "    (df_exportacao.ano == 2008) &\n",
    "    (df.paises != 'Total')\n",
    "].quantidade_kg.sum(),\n",
    "\n",
    "'\\nTotal base:' ,\n",
    "df_exportacao[\n",
    "    (df_exportacao.ano == 2008) &\n",
    "    (df.paises == 'Total')\n",
    "].quantidade_kg.sum()\n",
    ")"
   ]
  },
  {
   "cell_type": "code",
   "execution_count": 21,
   "metadata": {},
   "outputs": [
    {
     "name": "stdout",
     "output_type": "stream",
     "text": [
      "Soma Valores: 194296946.0 \n",
      "Total base: 194296946.0\n"
     ]
    }
   ],
   "source": [
    "# Validando se os totais batem com a soma\n",
    "print(\n",
    "'Soma Valores:', df_exportacao[\n",
    "    (df_exportacao.ano == 2008) &\n",
    "    (df.paises != 'Total')\n",
    "].valor.sum(),\n",
    "\n",
    "'\\nTotal base:' ,\n",
    "df_exportacao[\n",
    "    (df_exportacao.ano == 2008) &\n",
    "    (df.paises == 'Total')\n",
    "].valor.sum()\n",
    ")"
   ]
  },
  {
   "cell_type": "code",
   "execution_count": 22,
   "metadata": {},
   "outputs": [],
   "source": [
    "# Como os valores bateram posso tirar o total da base\n",
    "df_exportacao = df_exportacao[(df.paises != 'Total')]"
   ]
  },
  {
   "cell_type": "code",
   "execution_count": 23,
   "metadata": {},
   "outputs": [
    {
     "data": {
      "text/plain": [
       "Index(['paises', 'quantidade_kg', 'valor', 'categorias', 'ano'], dtype='object')"
      ]
     },
     "execution_count": 23,
     "metadata": {},
     "output_type": "execute_result"
    }
   ],
   "source": [
    "df_exportacao.columns"
   ]
  },
  {
   "cell_type": "code",
   "execution_count": 24,
   "metadata": {},
   "outputs": [],
   "source": [
    "# Renomeando as colunas\n",
    "df_exportacao.rename(columns={\n",
    "        'paises':'pais_destino',\n",
    "        'quantidade_kg': 'quantidade_litro',\n",
    "        'ano' : 'ano_exportado'\n",
    "    },\n",
    "    inplace=True)\n",
    "\n",
    "# Criando coluna de pais origem\n",
    "df_exportacao['pais_origem'] = 'Brasil'\n",
    "\n",
    "# Ordenando as colunas\n",
    "df_exportacao = df_exportacao[[\n",
    "    'pais_origem',\n",
    "    'pais_destino',\n",
    "    'quantidade_litro',\n",
    "    'valor',\n",
    "    'categorias',\n",
    "    'ano_exportado'\n",
    "    ]\n",
    "]\n",
    "\n",
    "# Exportando resultado\n",
    "df_exportacao.to_csv(r'bases/tratadas/exportacao_15_anos_tratada.csv', index=False, sep=';')"
   ]
  }
 ],
 "metadata": {
  "kernelspec": {
   "display_name": "Python 3",
   "language": "python",
   "name": "python3"
  },
  "language_info": {
   "codemirror_mode": {
    "name": "ipython",
    "version": 3
   },
   "file_extension": ".py",
   "mimetype": "text/x-python",
   "name": "python",
   "nbconvert_exporter": "python",
   "pygments_lexer": "ipython3",
   "version": "3.10.11"
  }
 },
 "nbformat": 4,
 "nbformat_minor": 2
}
