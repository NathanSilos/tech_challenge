{
 "cells": [
  {
   "cell_type": "code",
   "execution_count": 12,
   "metadata": {},
   "outputs": [],
   "source": [
    "# Biblioteca de data\n",
    "from datetime import datetime, timedelta\n",
    "\n",
    "# Biblioteca para tratamento dos dados\n",
    "import pandas as pd\n",
    "\n",
    "# Biblioteca para realizar requisicoes via api\n",
    "import requests\n",
    "\n",
    "# Biblioteca para apontar o arquivo onde esta a credencial salva\n",
    "import sys\n",
    "sys.path.append(r'C:\\Users\\natha\\Documents\\\\')\n",
    "\n",
    "# Importa credencial\n",
    "from credencial_api_clima import *"
   ]
  },
  {
   "cell_type": "code",
   "execution_count": 13,
   "metadata": {},
   "outputs": [
    {
     "name": "stdout",
     "output_type": "stream",
     "text": [
      "nublado 20.860000000000014ºC\n"
     ]
    }
   ],
   "source": [
    "cidade = \"Rio Grande do Sul\"\n",
    "link = f\"https://api.openweathermap.org/data/2.5/weather?q={cidade}&appid={API_KEY}&lang=pt_br\"\n",
    "\n",
    "requisicao = requests.get(link)\n",
    "requisicao_dic = requisicao.json()\n",
    "descricao = requisicao_dic['weather'][0]['description']\n",
    "temperatura = requisicao_dic['main']['temp'] - 273.15\n",
    "print(descricao, f\"{temperatura}ºC\")"
   ]
  },
  {
   "cell_type": "code",
   "execution_count": 11,
   "metadata": {},
   "outputs": [
    {
     "name": "stdout",
     "output_type": "stream",
     "text": [
      "          Data  Temperatura\n",
      "0   01-01-2008        20.74\n",
      "1   01-01-2009        20.74\n",
      "2   01-01-2010        20.74\n",
      "3   01-01-2011        20.74\n",
      "4   01-01-2012        20.74\n",
      "5   01-01-2013        20.74\n",
      "6   01-01-2014        20.74\n",
      "7   01-01-2015        20.74\n",
      "8   01-01-2016        20.74\n",
      "9   01-01-2017        20.74\n",
      "10  01-01-2018        20.74\n",
      "11  01-01-2019        20.74\n",
      "12  01-01-2020        20.74\n",
      "13  01-01-2021        20.74\n",
      "14  01-01-2022        20.74\n",
      "15  01-01-2023        20.74\n"
     ]
    }
   ],
   "source": [
    "import requests\n",
    "import pandas as pd\n",
    "\n",
    "# Substitua 'SUA_API_KEY' pela sua chave de API do OpenWeatherMap\n",
    "api_key = 'SUA_API_KEY'\n",
    "\n",
    "# Defina a cidade ou localização para o estado do Rio Grande do Sul (exemplo: Porto Alegre)\n",
    "cidade = 'Porto Alegre,BR'\n",
    "\n",
    "# URL da API do OpenWeatherMap para obter dados meteorológicos atuais\n",
    "url = f'https://api.openweathermap.org/data/2.5/weather?q={cidade}&appid={API_KEY}&units=metric'\n",
    "\n",
    "# Lista para armazenar os dados de temperatura\n",
    "dados_temperatura = []\n",
    "\n",
    "# Loop para obter os dados de temperatura (última leitura) desde 2008\n",
    "for ano in range(2008, 2024):  # A API do OpenWeatherMap não fornece dados históricos, este é um exemplo hipotético\n",
    "    # Aqui você faria as solicitações à API para cada ano, mas a API não fornece dados históricos.\n",
    "\n",
    "    # Exemplo de uma solicitação fictícia - A API real não fornece dados históricos\n",
    "    response = requests.get(url)\n",
    "    if response.status_code == 200:\n",
    "        # Extrair os dados de temperatura da resposta da API\n",
    "        dados = {\n",
    "            \"Data\": f'01-01-{ano}',  # Exemplo fictício de data para cada ano\n",
    "            \"Temperatura\": response.json().get('main', {}).get('temp')\n",
    "        }\n",
    "        dados_temperatura.append(dados)\n",
    "\n",
    "# Criar um DataFrame com os dados de temperatura\n",
    "df_temperatura = pd.DataFrame(dados_temperatura)\n",
    "\n",
    "# Exibir o DataFrame com os dados de temperatura\n",
    "print(df_temperatura)\n"
   ]
  },
  {
   "cell_type": "code",
   "execution_count": 311,
   "metadata": {},
   "outputs": [],
   "source": [
    "\n",
    "\n",
    "# Substitua 'SUA_API_KEY' pela sua chave de API do OpenWeather\n",
    "api_key = ''\n",
    "\n",
    "# Inicialize o cliente da API do OpenWeather\n",
    "owm = pyowm.OWM(api_key)\n",
    "\n",
    "# Defina a localização (cidade) para a qual você deseja obter dados climáticos\n",
    "localizacao = \"Rio de Janeiro, BR\"\n",
    "\n",
    "# Defina a data de início e fim desejada (em formato ISO8601)\n",
    "data_inicio = \"2008-01-01\"\n",
    "data_fim = \"2023-10-26\"\n",
    "\n",
    "# Inicialize uma lista para armazenar os dados climáticos\n",
    "dados_clima = []\n",
    "\n",
    "# Converta as datas de início e fim em objetos de data e hora\n",
    "data_inicio = datetime.fromisoformat(data_inicio)\n",
    "data_fim = datetime.fromisoformat(data_fim)\n",
    "\n",
    "# Defina um intervalo de tempo (1 dia)\n",
    "intervalo_tempo = timedelta(days=1)\n",
    "\n",
    "# Loop para obter dados climáticos diários desde 2008 até a data atual\n",
    "data_atual = data_inicio"
   ]
  },
  {
   "cell_type": "code",
   "execution_count": 3,
   "metadata": {},
   "outputs": [
    {
     "ename": "NameError",
     "evalue": "name 'data_atual' is not defined",
     "output_type": "error",
     "traceback": [
      "\u001b[1;31m---------------------------------------------------------------------------\u001b[0m",
      "\u001b[1;31mNameError\u001b[0m                                 Traceback (most recent call last)",
      "\u001b[1;32mc:\\Users\\natha\\Documents\\02-Cursos\\pos_tech_data_analytics\\fase_1_analisa_exploratoria\\tech_challenge\\criacao_visoes copy.ipynb Cell 3\u001b[0m line \u001b[0;36m<cell line: 1>\u001b[1;34m()\u001b[0m\n\u001b[1;32m----> <a href='vscode-notebook-cell:/c%3A/Users/natha/Documents/02-Cursos/pos_tech_data_analytics/fase_1_analisa_exploratoria/tech_challenge/criacao_visoes%20copy.ipynb#X35sZmlsZQ%3D%3D?line=0'>1</a>\u001b[0m \u001b[39mwhile\u001b[39;00m data_atual \u001b[39m<\u001b[39m\u001b[39m=\u001b[39m data_fim:\n\u001b[0;32m      <a href='vscode-notebook-cell:/c%3A/Users/natha/Documents/02-Cursos/pos_tech_data_analytics/fase_1_analisa_exploratoria/tech_challenge/criacao_visoes%20copy.ipynb#X35sZmlsZQ%3D%3D?line=1'>2</a>\u001b[0m     \u001b[39m# Formate a data atual para a API do OpenWeather\u001b[39;00m\n\u001b[0;32m      <a href='vscode-notebook-cell:/c%3A/Users/natha/Documents/02-Cursos/pos_tech_data_analytics/fase_1_analisa_exploratoria/tech_challenge/criacao_visoes%20copy.ipynb#X35sZmlsZQ%3D%3D?line=2'>3</a>\u001b[0m     data_formatada \u001b[39m=\u001b[39m data_atual\u001b[39m.\u001b[39mstrftime(\u001b[39m\"\u001b[39m\u001b[39m%\u001b[39m\u001b[39mY-\u001b[39m\u001b[39m%\u001b[39m\u001b[39mm-\u001b[39m\u001b[39m%d\u001b[39;00m\u001b[39m\"\u001b[39m)\n\u001b[0;32m      <a href='vscode-notebook-cell:/c%3A/Users/natha/Documents/02-Cursos/pos_tech_data_analytics/fase_1_analisa_exploratoria/tech_challenge/criacao_visoes%20copy.ipynb#X35sZmlsZQ%3D%3D?line=4'>5</a>\u001b[0m     \u001b[39m# Consulte os dados climáticos históricos para a data atual\u001b[39;00m\n",
      "\u001b[1;31mNameError\u001b[0m: name 'data_atual' is not defined"
     ]
    }
   ],
   "source": [
    "while data_atual <= data_fim:\n",
    "    # Formate a data atual para a API do OpenWeather\n",
    "    data_formatada = data_atual.strftime(\"%Y-%m-%d\")\n",
    "\n",
    "    # Consulte os dados climáticos históricos para a data atual\n",
    "    observation = owm.weather_at_place(localizacao, data_formatada)\n",
    "    w = observation.get_weather()\n",
    "\n",
    "    # Obtenha os dados desejados, como temperatura, umidade, etc.\n",
    "    temperatura = w.get_temperature('celsius')[\"temp\"]\n",
    "    umidade = w.get_humidity()\n",
    "    # Outros dados podem ser obtidos usando métodos semelhantes\n",
    "\n",
    "    # Armazene os dados em uma estrutura de dados, como um dicionário\n",
    "    dados_do_dia = {\n",
    "        \"Data\": data_formatada,\n",
    "        \"Temperatura (°C)\": temperatura,\n",
    "        \"Umidade (%)\": umidade\n",
    "        # Adicione outros dados desejados aqui\n",
    "    }\n",
    "\n",
    "    dados_clima.append(dados_do_dia)\n",
    "\n",
    "    # Avance para o próximo dia\n",
    "    data_atual += intervalo_tempo\n",
    "\n",
    "# Exemplo de como acessar os dados\n",
    "for dado in dados_clima:\n",
    "    print(f\"Data: {dado['Data']} - Temperatura: {dado['Temperatura (°C)']}°C - Umidade: {dado['Umidade (%))']}%\")\n"
   ]
  }
 ],
 "metadata": {
  "kernelspec": {
   "display_name": "Python 3",
   "language": "python",
   "name": "python3"
  },
  "language_info": {
   "codemirror_mode": {
    "name": "ipython",
    "version": 3
   },
   "file_extension": ".py",
   "mimetype": "text/x-python",
   "name": "python",
   "nbconvert_exporter": "python",
   "pygments_lexer": "ipython3",
   "version": "3.10.11"
  }
 },
 "nbformat": 4,
 "nbformat_minor": 2
}
