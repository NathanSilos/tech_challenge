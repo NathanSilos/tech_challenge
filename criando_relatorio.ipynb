{
 "cells": [
  {
   "cell_type": "code",
   "execution_count": 2,
   "metadata": {},
   "outputs": [],
   "source": [
    "# Importando a biblioteca\n",
    "from fpdf import FPDF\n",
    "import datetime as dt"
   ]
  },
  {
   "cell_type": "code",
   "execution_count": 3,
   "metadata": {},
   "outputs": [],
   "source": [
    "# Criando uma classe para o PDF\n",
    "class PDF(FPDF):\n",
    "    \n",
    "    def header(self):\n",
    "        \n",
    "        self.image(r'imagens/wine.png', 10, 8, 40)\n",
    "        self.set_font('Arial', 'B', 20)\n",
    "        self.ln(15)\n",
    "        self.set_draw_color(35, 155, 132) #cor RGB\n",
    "        self.cell(15, ln = False)\n",
    "        self.cell(150, 15, f\"Relatório: {dt.date.today().strftime('%d/%m/%Y')}\", \n",
    "                  border = False, ln = True, align = \"C\")\n",
    "        self.ln(5)\n",
    "        \n",
    "    def footer(self):\n",
    "        \n",
    "        self.set_y(-15) #espaço ate o final da folha\n",
    "        self.set_font('Arial', 'I', 10)\n",
    "        self.cell(0, 10, f\"{self.page_no()}/{{nb}}\", align = \"C\")"
   ]
  },
  {
   "cell_type": "code",
   "execution_count": 4,
   "metadata": {},
   "outputs": [],
   "source": [
    "# Definindo configuracoes básicas do PDF\n",
    "pdf = PDF(\"P\", \"mm\", \"Letter\")\n",
    "pdf.set_auto_page_break(auto = True, margin = 15)\n",
    "pdf.alias_nb_pages()\n",
    "pdf.add_page()\n",
    "pdf.set_fill_color(255, 255, 255)\n",
    "pdf.set_draw_color(35, 155, 132)"
   ]
  },
  {
   "cell_type": "code",
   "execution_count": 5,
   "metadata": {},
   "outputs": [],
   "source": [
    "# Titulo\n",
    "pdf.cell(0, 12, \"1 - Exportações\", ln = True,  border = False, fill = False)\n",
    "\n",
    "# Incluindo os gráficos de categorias\n",
    "\n",
    "pdf.cell(0, 20, \"Valores Exportados por Categoria\", ln = True,  border = False, fill = False, align = \"C\")\n",
    "pdf.image(r\"imagens/exportacao_valores_categ.png\", w = 100, h = 80, x = 58)\n",
    "\n",
    "pdf.cell(0, 20, \"Litros Exportados por Categoria\", ln = True,  border = False, fill = False, align = \"C\")\n",
    "pdf.image(r\"imagens/exportacao_litros_categ.png\", w = 150, h = 80, x = 58)\n",
    "\n",
    "pdf.cell(0, 20, \"Quantidade de paises Distintos Exportados\", ln = True,  border = False, fill = False, align = \"C\")\n",
    "pdf.image(r\"imagens/exportacao_paises_categ.png\", w = 170, h = 75, x = 58)"
   ]
  },
  {
   "cell_type": "code",
   "execution_count": 6,
   "metadata": {},
   "outputs": [],
   "source": [
    "# Incluindo os gráficos de  \n",
    "pdf.cell(0, 15, \"Dólar\", ln = True,  border = False, fill = False, align = \"C\")\n",
    "pdf.image(r\"imagens/dolar.png\", w = 100, h = 75, x = 58)"
   ]
  },
  {
   "cell_type": "code",
   "execution_count": 7,
   "metadata": {},
   "outputs": [
    {
     "data": {
      "text/plain": [
       "''"
      ]
     },
     "execution_count": 7,
     "metadata": {},
     "output_type": "execute_result"
    }
   ],
   "source": [
    "\n",
    "pdf.output(r'respostas/relatorio_de_vinhos.pdf')"
   ]
  },
  {
   "cell_type": "code",
   "execution_count": 8,
   "metadata": {},
   "outputs": [
    {
     "ename": "NameError",
     "evalue": "name 'fechamento_de_dia_dolar' is not defined",
     "output_type": "error",
     "traceback": [
      "\u001b[1;31m---------------------------------------------------------------------------\u001b[0m",
      "\u001b[1;31mNameError\u001b[0m                                 Traceback (most recent call last)",
      "\u001b[1;32mc:\\Users\\natha\\Documents\\02-Cursos\\pos_tech_data_analytics\\fase_1_analisa_exploratoria\\tech_challenge\\criando_relatorio.ipynb Cell 7\u001b[0m line \u001b[0;36m<cell line: 3>\u001b[1;34m()\u001b[0m\n\u001b[0;32m      <a href='vscode-notebook-cell:/c%3A/Users/natha/Documents/02-Cursos/pos_tech_data_analytics/fase_1_analisa_exploratoria/tech_challenge/criando_relatorio.ipynb#W5sZmlsZQ%3D%3D?line=0'>1</a>\u001b[0m \u001b[39m#fechamento Dólar\u001b[39;00m\n\u001b[0;32m      <a href='vscode-notebook-cell:/c%3A/Users/natha/Documents/02-Cursos/pos_tech_data_analytics/fase_1_analisa_exploratoria/tech_challenge/criando_relatorio.ipynb#W5sZmlsZQ%3D%3D?line=1'>2</a>\u001b[0m pdf\u001b[39m.\u001b[39mcell(\u001b[39m25\u001b[39m, \u001b[39m15\u001b[39m, \u001b[39m\"\u001b[39m\u001b[39m Dólar\u001b[39m\u001b[39m\"\u001b[39m, ln \u001b[39m=\u001b[39m \u001b[39mFalse\u001b[39;00m,  border \u001b[39m=\u001b[39m \u001b[39mTrue\u001b[39;00m, fill \u001b[39m=\u001b[39m \u001b[39mTrue\u001b[39;00m)\n\u001b[1;32m----> <a href='vscode-notebook-cell:/c%3A/Users/natha/Documents/02-Cursos/pos_tech_data_analytics/fase_1_analisa_exploratoria/tech_challenge/criando_relatorio.ipynb#W5sZmlsZQ%3D%3D?line=2'>3</a>\u001b[0m pdf\u001b[39m.\u001b[39mcell(\u001b[39m20\u001b[39m, \u001b[39m15\u001b[39m, \u001b[39mf\u001b[39m\u001b[39m\"\u001b[39m\u001b[39m \u001b[39m\u001b[39m{\u001b[39;00m\u001b[39mstr\u001b[39m(\u001b[39mround\u001b[39m(fechamento_de_dia_dolar[\u001b[39m0\u001b[39m] \u001b[39m*\u001b[39m \u001b[39m100\u001b[39m, \u001b[39m2\u001b[39m))\u001b[39m}\u001b[39;00m\u001b[39m%\u001b[39m\u001b[39m\"\u001b[39m, ln \u001b[39m=\u001b[39m \u001b[39mTrue\u001b[39;00m,  border \u001b[39m=\u001b[39m \u001b[39mTrue\u001b[39;00m, fill \u001b[39m=\u001b[39m \u001b[39mFalse\u001b[39;00m)\n\u001b[0;32m      <a href='vscode-notebook-cell:/c%3A/Users/natha/Documents/02-Cursos/pos_tech_data_analytics/fase_1_analisa_exploratoria/tech_challenge/criando_relatorio.ipynb#W5sZmlsZQ%3D%3D?line=4'>5</a>\u001b[0m pdf\u001b[39m.\u001b[39mln(\u001b[39m7\u001b[39m)\n",
      "\u001b[1;31mNameError\u001b[0m: name 'fechamento_de_dia_dolar' is not defined"
     ]
    }
   ],
   "source": [
    "#fechamento Dólar\n",
    "pdf.cell(25, 15, \" Dólar\", ln = False,  border = True, fill = True)\n",
    "pdf.cell(20, 15, f\" {str(round(fechamento_de_dia_dolar[0] * 100, 2))}%\", ln = True,  border = True, fill = False)\n",
    "\n",
    "pdf.ln(7)"
   ]
  },
  {
   "cell_type": "code",
   "execution_count": null,
   "metadata": {},
   "outputs": [],
   "source": [
    "\n",
    "\n",
    "# Incluindo primeira visao no PDF\n",
    "pdf.set_font('Arial', 'B', 18)\n",
    "pdf.cell(0, 15, \"Exportações por Categoria:\", ln = True,  border = False, fill = False)\n",
    "pdf.ln(2)\n",
    "\n",
    "pdf.set_font('Arial', '', 14)\n",
    "pdf.cell(0, 20, \"1.1 Valores:\", ln = True,  border = False, fill = True)\n",
    "pdf.cell(0, 50, \"1.2 Litros:\", ln = True,  border = False, fill = True)\n",
    "pdf.cell(0, 100, \"1.3 Países Distintos:\", ln = True,  border = False, fill = True)\n",
    "\n",
    "pdf.image(r'imagens/exportacao_valores_categ.png', x = 90, y = 70, w = 105, h = 55)\n",
    "pdf.image(r'imagens/exportacao_litros_categ.png', x = 90, y = 106, w = 105, h = 55)\n",
    "pdf.image(r'imagens/exportacao_paises_categ.png', x = 90, y = 152, w = 105, h = 55)\n",
    "\n",
    "pdf.ln(7)\n",
    "\n",
    "pdf.output(r'respostas/relatorio_de_vinhos.pdf')"
   ]
  }
 ],
 "metadata": {
  "kernelspec": {
   "display_name": "Python 3",
   "language": "python",
   "name": "python3"
  },
  "language_info": {
   "codemirror_mode": {
    "name": "ipython",
    "version": 3
   },
   "file_extension": ".py",
   "mimetype": "text/x-python",
   "name": "python",
   "nbconvert_exporter": "python",
   "pygments_lexer": "ipython3",
   "version": "3.10.11"
  }
 },
 "nbformat": 4,
 "nbformat_minor": 2
}
