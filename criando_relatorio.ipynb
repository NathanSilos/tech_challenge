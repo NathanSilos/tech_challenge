{
 "cells": [
  {
   "cell_type": "code",
   "execution_count": 1,
   "metadata": {},
   "outputs": [],
   "source": [
    "# Criacao de PDF\n",
    "from fpdf import FPDF"
   ]
  },
  {
   "cell_type": "code",
   "execution_count": null,
   "metadata": {},
   "outputs": [],
   "source": [
    "class PDF(FPDF):\n",
    "    \n",
    "    def header(self):\n",
    "        \n",
    "        self.image(r'imagens/wine.png', 10, 8, 40)\n",
    "        self.set_font('Arial', 'B', 20)\n",
    "        self.ln(15)\n",
    "        self.set_draw_color(35, 155, 132) #cor RGB\n",
    "        self.cell(15, ln = False)\n",
    "        self.cell(150, 15, f\"Relatório: {dt.date.today().strftime('%d/%m/%Y')}\", \n",
    "                  border = False, ln = True, align = \"C\")\n",
    "        self.ln(5)\n",
    "        \n",
    "    def footer(self):\n",
    "        \n",
    "        self.set_y(-15) #espaço ate o final da folha\n",
    "        self.set_font('Arial', 'I', 10)\n",
    "        self.cell(0, 10, f\"{self.page_no()}/{{nb}}\", align = \"C\")\n",
    "\n",
    "#Definindo config básicas do PDF\n",
    "pdf = PDF(\"P\", \"mm\", \"Letter\")\n",
    "pdf.set_auto_page_break(auto = True, margin = 15)\n",
    "pdf.alias_nb_pages()\n",
    "pdf.add_page()\n",
    "pdf.set_fill_color(255, 255, 255)\n",
    "pdf.set_draw_color(35, 155, 132)\n",
    "\n",
    "# Incluindo primeira visao no PDF\n",
    "pdf.set_font('Arial', 'B', 18)\n",
    "pdf.cell(0, 15, \"Exportações por Categoria:\", ln = True,  border = False, fill = False)\n",
    "pdf.ln(2)\n",
    "\n",
    "pdf.set_font('Arial', '', 14)\n",
    "pdf.cell(0, 20, \"1.1 Valores:\", ln = True,  border = False, fill = True)\n",
    "pdf.cell(0, 50, \"1.2 Litros:\", ln = True,  border = False, fill = True)\n",
    "pdf.cell(0, 100, \"1.3 Países Distintos:\", ln = True,  border = False, fill = True)\n",
    "\n",
    "pdf.image(r'imagens/exportacao_valores_categ.png', x = 90, y = 70, w = 105, h = 55)\n",
    "pdf.image(r'imagens/exportacao_litros_categ.png', x = 90, y = 106, w = 105, h = 55)\n",
    "pdf.image(r'imagens/exportacao_paises_categ.png', x = 90, y = 152, w = 105, h = 55)\n",
    "\n",
    "pdf.ln(7)\n",
    "\n",
    "pdf.output(r'imagens/relatorio_de_vinhos.pdf')"
   ]
  }
 ],
 "metadata": {
  "kernelspec": {
   "display_name": "Python 3",
   "language": "python",
   "name": "python3"
  },
  "language_info": {
   "codemirror_mode": {
    "name": "ipython",
    "version": 3
   },
   "file_extension": ".py",
   "mimetype": "text/x-python",
   "name": "python",
   "nbconvert_exporter": "python",
   "pygments_lexer": "ipython3",
   "version": "3.10.11"
  }
 },
 "nbformat": 4,
 "nbformat_minor": 2
}
